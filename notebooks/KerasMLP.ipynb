{
 "cells": [
  {
   "cell_type": "markdown",
   "metadata": {},
   "source": [
    "# Keras Multi-layer Perceptron\n",
    "\n",
    "Nothing crazy."
   ]
  },
  {
   "cell_type": "markdown",
   "metadata": {},
   "source": [
    "### Imports (from the UNIX Server)"
   ]
  },
  {
   "cell_type": "code",
   "execution_count": 1,
   "metadata": {},
   "outputs": [
    {
     "name": "stderr",
     "output_type": "stream",
     "text": [
      "Using TensorFlow backend.\n"
     ]
    }
   ],
   "source": [
    "import os\n",
    "import numpy as np\n",
    "import tensorflow as tf\n",
    "from keras import backend as K\n",
    "\n",
    "\n",
    "class GenericModel:\n",
    "    \"\"\"\n",
    "    Generic Tensorflow Model Class\n",
    "\n",
    "    Each subclass of this class needs to define the data structure of its weights\n",
    "    (which should be respected accross methods) and implement the functions below.\n",
    "\n",
    "    \"\"\"\n",
    "\n",
    "    def get_model(self):\n",
    "        raise NotImplementedError(\"Subclasses should implement this!\")\n",
    "\n",
    "    def load_weights(self):\n",
    "        raise NotImplementedError(\"Subclasses should implement this!\")\n",
    "\n",
    "    def get_weights(self):\n",
    "        raise NotImplementedError(\"Subclasses should implement this!\")\n",
    "\n",
    "    def sum_weights(self, weights1, weights2):\n",
    "        raise NotImplementedError(\"Subclasses should implement this!\")\n",
    "\n",
    "    def scale_weights(self, weights, factor):\n",
    "        raise NotImplementedError(\"Subclasses should implement this!\")\n",
    "\n",
    "    def inverse_scale_weights(self, weights, factor):\n",
    "        raise NotImplementedError(\"Subclasses should implement this!\")\n",
    "\n",
    "class GenericKerasModel(GenericModel):\n",
    "    def set_weights(self, new_weights):\n",
    "        self.model.set_weights(new_weights)\n",
    "\n",
    "    def get_weights(self):\n",
    "        return self.model.get_weights()\n",
    "\n",
    "    def get_initial_weights(self):\n",
    "        model = self.build_model()\n",
    "        return model.get_weights()\n",
    "\n",
    "    def sum_weights(self, weights1, weights2):\n",
    "        new_weights = []\n",
    "        for w1, w2 in zip(weights1, weights2):\n",
    "            new_weights.append(w1 + w2)\n",
    "        return new_weights\n",
    "\n",
    "    def scale_weights(self, weights, factor):\n",
    "        new_weights = []\n",
    "        for w in weights:\n",
    "            new_weights.append(w * factor)\n",
    "        return new_weights\n",
    "\n",
    "    def inverse_scale_weights(self, weights, factor):\n",
    "        new_weights = []\n",
    "        for w in weights:\n",
    "            new_weights.append(w / factor)\n",
    "        return new_weights\n"
   ]
  },
  {
   "cell_type": "code",
   "execution_count": 2,
   "metadata": {},
   "outputs": [],
   "source": [
    "import numpy as np\n",
    "import keras\n",
    "from keras.models import Sequential\n",
    "from keras.layers import Dense\n",
    "from keras import optimizers\n",
    "\n",
    "\n",
    "class KerasPerceptron(GenericKerasModel):\n",
    "    def __init__(self, is_training=False):\n",
    "        self.n_input = 784\n",
    "        self.n_hidden1 = 200\n",
    "        self.n_hidden2 = 200\n",
    "        self.n_classes = 10\n",
    "        self.is_training = is_training\n",
    "        self.model = self.build_model()\n",
    "        if is_training:\n",
    "            self.compile_model()\n",
    "\n",
    "    def build_model(self):\n",
    "        model = Sequential()\n",
    "        model.add(Dense(self.n_hidden1, input_shape=(self.n_input,), activation='relu', kernel_initializer=keras.initializers.glorot_uniform()))\n",
    "        model.add(Dense(self.n_hidden2, activation='relu', kernel_initializer=keras.initializers.glorot_uniform()))\n",
    "        model.add(Dense(self.n_classes, activation='softmax', kernel_initializer=keras.initializers.glorot_uniform()))\n",
    "        # model.summary()\n",
    "        return model\n",
    "\n",
    "    def compile_model(self):\n",
    "        sgd = optimizers.SGD(lr=0.001)\n",
    "        self.model.compile(\n",
    "            optimizer=sgd,\n",
    "            loss='sparse_categorical_crossentropy',\n",
    "            metrics=['accuracy']\n",
    "        )"
   ]
  },
  {
   "cell_type": "code",
   "execution_count": 3,
   "metadata": {},
   "outputs": [],
   "source": [
    "\"\"\"\n",
    "Custom saving/loading for Keras.\n",
    "Based on https://github.com/keras-team/keras/blob/master/keras/engine/saving.py.\n",
    "\"\"\"\n",
    "\n",
    "import json\n",
    "\n",
    "from keras import optimizers\n",
    "\n",
    "from keras.models import model_from_json\n",
    "\n",
    "\n",
    "def model_from_serialized(serialized_model):\n",
    "    uncompiled_model = model_from_json(serialized_model['architecture'])\n",
    "    return _load_optimizer(uncompiled_model, serialized_model['optimizer'])\n",
    "\n",
    "def get_optimizer(model):\n",
    "    def get_json_type(obj):\n",
    "        \"\"\"Serialize any object to a JSON-serializable structure.\n",
    "        # Arguments\n",
    "            obj: the object to serialize\n",
    "        # Returns\n",
    "            JSON-serializable structure representing `obj`.\n",
    "        # Raises\n",
    "            TypeError: if `obj` cannot be serialized.\n",
    "        \"\"\"\n",
    "        # if obj is a serializable Keras class instance\n",
    "        # e.g. optimizer, layer\n",
    "        if hasattr(obj, 'get_config'):\n",
    "            return {'class_name': obj.__class__.__name__,\n",
    "                    'config': obj.get_config()}\n",
    "\n",
    "        # if obj is any numpy type\n",
    "        if type(obj).__module__ == np.__name__:\n",
    "            if isinstance(obj, np.ndarray):\n",
    "                return {'type': type(obj),\n",
    "                        'value': obj.tolist()}\n",
    "            else:\n",
    "                return obj.item()\n",
    "\n",
    "        # misc functions (e.g. loss function)\n",
    "        if callable(obj):\n",
    "            return obj.__name__\n",
    "\n",
    "        # if obj is a python 'type'\n",
    "        if type(obj).__name__ == type.__name__:\n",
    "            return obj.__name__\n",
    "\n",
    "        raise TypeError('Not JSON Serializable:', obj)\n",
    "\n",
    "    if model.optimizer:\n",
    "        metadata = {}\n",
    "        if isinstance(model.optimizer, optimizers.TFOptimizer):\n",
    "            warnings.warn(\n",
    "                'TensorFlow optimizers do not '\n",
    "                'make it possible to access '\n",
    "                'optimizer attributes or optimizer state '\n",
    "                'after instantiation. '\n",
    "                'As a result, we cannot save the optimizer '\n",
    "                'as part of the model save file.'\n",
    "                'You will have to compile your model again '\n",
    "                'after loading it. '\n",
    "                'Prefer using a Keras optimizer instead '\n",
    "                '(see keras.io/optimizers).')\n",
    "        else:\n",
    "            metadata['training_config'] = json.dumps({\n",
    "                'optimizer_config': {\n",
    "                    'class_name': model.optimizer.__class__.__name__,\n",
    "                    'config': model.optimizer.get_config()\n",
    "                },\n",
    "                'loss': model.loss,\n",
    "                'metrics': model.metrics,\n",
    "                'sample_weight_mode': model.sample_weight_mode,\n",
    "                'loss_weights': model.loss_weights,\n",
    "            }, default=get_json_type)\n",
    "\n",
    "    return metadata\n",
    "\n",
    "def _load_optimizer(uncompiled_model, optimizer_metadata):\n",
    "    custom_objects = {}\n",
    "\n",
    "    def convert_custom_objects(obj):\n",
    "        \"\"\"Handles custom object lookup.\n",
    "        # Arguments\n",
    "            obj: object, dict, or list.\n",
    "        # Returns\n",
    "            The same structure, where occurrences\n",
    "                of a custom object name have been replaced\n",
    "                with the custom object.\n",
    "        \"\"\"\n",
    "        if isinstance(obj, list):\n",
    "            deserialized = []\n",
    "            for value in obj:\n",
    "                deserialized.append(convert_custom_objects(value))\n",
    "            return deserialized\n",
    "        if isinstance(obj, dict):\n",
    "            deserialized = {}\n",
    "            for key, value in obj.items():\n",
    "                deserialized[key] = convert_custom_objects(value)\n",
    "            return deserialized\n",
    "        if obj in custom_objects:\n",
    "            return custom_objects[obj]\n",
    "        return obj\n",
    "\n",
    "    # instantiate optimizer\n",
    "    training_config = optimizer_metadata.get('training_config')\n",
    "    if training_config is None:\n",
    "        warnings.warn('No training configuration found in save file: '\n",
    "                      'the model was *not* compiled. '\n",
    "                      'Compile it manually.')\n",
    "        return uncompiled_model\n",
    "    training_config = json.loads(training_config)\n",
    "    optimizer_config = training_config['optimizer_config']\n",
    "    optimizer = optimizers.deserialize(optimizer_config,\n",
    "                                       custom_objects=custom_objects)\n",
    "\n",
    "    # Recover loss functions and metrics.\n",
    "    loss = convert_custom_objects(training_config['loss'])\n",
    "    metrics = convert_custom_objects(training_config['metrics'])\n",
    "    sample_weight_mode = training_config['sample_weight_mode']\n",
    "    loss_weights = training_config['loss_weights']\n",
    "\n",
    "    # Compile model.\n",
    "    uncompiled_model.compile(optimizer=optimizer,\n",
    "                             loss=loss,\n",
    "                             metrics=metrics,\n",
    "                             loss_weights=loss_weights,\n",
    "                             sample_weight_mode=sample_weight_mode)\n",
    "\n",
    "    model = uncompiled_model\n",
    "    return model\n"
   ]
  },
  {
   "cell_type": "markdown",
   "metadata": {},
   "source": [
    "### Setting up model"
   ]
  },
  {
   "cell_type": "code",
   "execution_count": 4,
   "metadata": {},
   "outputs": [
    {
     "name": "stdout",
     "output_type": "stream",
     "text": [
      "WARNING:tensorflow:From /Users/georgymh/Documents/Development/DataAgora/venv3/lib/python3.6/site-packages/tensorflow/python/framework/op_def_library.py:263: colocate_with (from tensorflow.python.framework.ops) is deprecated and will be removed in a future version.\n",
      "Instructions for updating:\n",
      "Colocations handled automatically by placer.\n",
      "_________________________________________________________________\n",
      "Layer (type)                 Output Shape              Param #   \n",
      "=================================================================\n",
      "dense_1 (Dense)              (None, 200)               157000    \n",
      "_________________________________________________________________\n",
      "dense_2 (Dense)              (None, 200)               40200     \n",
      "_________________________________________________________________\n",
      "dense_3 (Dense)              (None, 10)                2010      \n",
      "=================================================================\n",
      "Total params: 199,210\n",
      "Trainable params: 199,210\n",
      "Non-trainable params: 0\n",
      "_________________________________________________________________\n"
     ]
    }
   ],
   "source": [
    "m = KerasPerceptron(is_training=True)\n",
    "m.model.summary()"
   ]
  },
  {
   "cell_type": "markdown",
   "metadata": {},
   "source": [
    "### Data loading"
   ]
  },
  {
   "cell_type": "code",
   "execution_count": 5,
   "metadata": {},
   "outputs": [],
   "source": [
    "from keras.datasets import mnist\n",
    "(x_train, y_train), (x_test, y_test) = mnist.load_data()\n",
    "\n",
    "x_train.resize((x_train.shape[0], 28 * 28))\n",
    "x_test.resize((x_test.shape[0], 28 * 28))"
   ]
  },
  {
   "cell_type": "markdown",
   "metadata": {},
   "source": [
    "### Evaluation (Initial Weights)"
   ]
  },
  {
   "cell_type": "markdown",
   "metadata": {},
   "source": [
    "#### Preview of weights"
   ]
  },
  {
   "cell_type": "code",
   "execution_count": 6,
   "metadata": {},
   "outputs": [
    {
     "data": {
      "text/plain": [
       "([array([[ 0.06333545,  0.04913887,  0.016052  , ..., -0.00994565,\n",
       "           0.00749673,  0.0242041 ],\n",
       "         [-0.07462638,  0.00478362, -0.06386836, ..., -0.00901598,\n",
       "           0.02959282, -0.04482715],\n",
       "         [ 0.00602322,  0.0061181 , -0.02080705, ...,  0.06932788,\n",
       "          -0.03340314, -0.01306256],\n",
       "         ...,\n",
       "         [-0.02649657,  0.01674083,  0.00165223, ...,  0.05540611,\n",
       "          -0.00644033,  0.06428657],\n",
       "         [ 0.0232241 ,  0.06377034,  0.06853145, ..., -0.02765635,\n",
       "           0.02512028, -0.02771208],\n",
       "         [-0.03769262,  0.07497495, -0.03053048, ...,  0.06895617,\n",
       "           0.03513973, -0.02401147]], dtype=float32),\n",
       "  array([0., 0., 0., 0., 0., 0., 0., 0., 0., 0., 0., 0., 0., 0., 0., 0., 0.,\n",
       "         0., 0., 0., 0., 0., 0., 0., 0., 0., 0., 0., 0., 0., 0., 0., 0., 0.,\n",
       "         0., 0., 0., 0., 0., 0., 0., 0., 0., 0., 0., 0., 0., 0., 0., 0., 0.,\n",
       "         0., 0., 0., 0., 0., 0., 0., 0., 0., 0., 0., 0., 0., 0., 0., 0., 0.,\n",
       "         0., 0., 0., 0., 0., 0., 0., 0., 0., 0., 0., 0., 0., 0., 0., 0., 0.,\n",
       "         0., 0., 0., 0., 0., 0., 0., 0., 0., 0., 0., 0., 0., 0., 0., 0., 0.,\n",
       "         0., 0., 0., 0., 0., 0., 0., 0., 0., 0., 0., 0., 0., 0., 0., 0., 0.,\n",
       "         0., 0., 0., 0., 0., 0., 0., 0., 0., 0., 0., 0., 0., 0., 0., 0., 0.,\n",
       "         0., 0., 0., 0., 0., 0., 0., 0., 0., 0., 0., 0., 0., 0., 0., 0., 0.,\n",
       "         0., 0., 0., 0., 0., 0., 0., 0., 0., 0., 0., 0., 0., 0., 0., 0., 0.,\n",
       "         0., 0., 0., 0., 0., 0., 0., 0., 0., 0., 0., 0., 0., 0., 0., 0., 0.,\n",
       "         0., 0., 0., 0., 0., 0., 0., 0., 0., 0., 0., 0., 0.], dtype=float32),\n",
       "  array([[-0.11716498,  0.11655589, -0.09124   , ...,  0.08679051,\n",
       "          -0.04023536, -0.10569197],\n",
       "         [ 0.0367273 , -0.00862819, -0.01391386, ...,  0.03498854,\n",
       "           0.11950769,  0.05024075],\n",
       "         [-0.07936507,  0.02754261, -0.08474629, ...,  0.11736866,\n",
       "           0.09242871,  0.08276532],\n",
       "         ...,\n",
       "         [-0.08568273, -0.04229154, -0.02463757, ..., -0.08733433,\n",
       "          -0.08885592, -0.10449581],\n",
       "         [ 0.03887185, -0.03563983, -0.12234043, ...,  0.11897715,\n",
       "           0.02567687, -0.09594868],\n",
       "         [-0.11630819,  0.08752722,  0.04714169, ..., -0.04432449,\n",
       "           0.0519583 ,  0.04498997]], dtype=float32),\n",
       "  array([0., 0., 0., 0., 0., 0., 0., 0., 0., 0., 0., 0., 0., 0., 0., 0., 0.,\n",
       "         0., 0., 0., 0., 0., 0., 0., 0., 0., 0., 0., 0., 0., 0., 0., 0., 0.,\n",
       "         0., 0., 0., 0., 0., 0., 0., 0., 0., 0., 0., 0., 0., 0., 0., 0., 0.,\n",
       "         0., 0., 0., 0., 0., 0., 0., 0., 0., 0., 0., 0., 0., 0., 0., 0., 0.,\n",
       "         0., 0., 0., 0., 0., 0., 0., 0., 0., 0., 0., 0., 0., 0., 0., 0., 0.,\n",
       "         0., 0., 0., 0., 0., 0., 0., 0., 0., 0., 0., 0., 0., 0., 0., 0., 0.,\n",
       "         0., 0., 0., 0., 0., 0., 0., 0., 0., 0., 0., 0., 0., 0., 0., 0., 0.,\n",
       "         0., 0., 0., 0., 0., 0., 0., 0., 0., 0., 0., 0., 0., 0., 0., 0., 0.,\n",
       "         0., 0., 0., 0., 0., 0., 0., 0., 0., 0., 0., 0., 0., 0., 0., 0., 0.,\n",
       "         0., 0., 0., 0., 0., 0., 0., 0., 0., 0., 0., 0., 0., 0., 0., 0., 0.,\n",
       "         0., 0., 0., 0., 0., 0., 0., 0., 0., 0., 0., 0., 0., 0., 0., 0., 0.,\n",
       "         0., 0., 0., 0., 0., 0., 0., 0., 0., 0., 0., 0., 0.], dtype=float32),\n",
       "  array([[-0.05122134, -0.13370359,  0.12603825, ..., -0.03260984,\n",
       "           0.06567718, -0.14695333],\n",
       "         [ 0.02906011, -0.14417443, -0.16430712, ...,  0.01537734,\n",
       "          -0.05701455, -0.15811431],\n",
       "         [-0.00406326,  0.03065781, -0.11614479, ..., -0.04077737,\n",
       "           0.05464891, -0.06154086],\n",
       "         ...,\n",
       "         [-0.01365004,  0.06362945,  0.07432115, ...,  0.11466992,\n",
       "           0.10954094,  0.04810332],\n",
       "         [ 0.12839147, -0.15838948, -0.11722665, ...,  0.04025008,\n",
       "          -0.08341293,  0.08461758],\n",
       "         [ 0.14616683,  0.03890587, -0.0632387 , ...,  0.03956188,\n",
       "           0.14111525, -0.15025173]], dtype=float32),\n",
       "  array([0., 0., 0., 0., 0., 0., 0., 0., 0., 0.], dtype=float32)],\n",
       " [(784, 200), (200,), (200, 200), (200,), (200, 10), (10,)])"
      ]
     },
     "execution_count": 6,
     "metadata": {},
     "output_type": "execute_result"
    }
   ],
   "source": [
    "m.get_weights(), [a.shape for a in m.get_weights()]"
   ]
  },
  {
   "cell_type": "markdown",
   "metadata": {},
   "source": [
    "#### Save initialized model"
   ]
  },
  {
   "cell_type": "code",
   "execution_count": 7,
   "metadata": {},
   "outputs": [],
   "source": [
    "m.model.save('init_mlp_model_with_w.h5')"
   ]
  },
  {
   "cell_type": "markdown",
   "metadata": {},
   "source": [
    "#### Evaluation"
   ]
  },
  {
   "cell_type": "code",
   "execution_count": 21,
   "metadata": {},
   "outputs": [
    {
     "name": "stdout",
     "output_type": "stream",
     "text": [
      "10000/10000 [==============================] - 0s 34us/step\n",
      "\n",
      "Evaluation loss is 14.771605708312988 and accuracy is 0.0696\n"
     ]
    }
   ],
   "source": [
    "results = m.model.evaluate(x=x_test, y=y_test)\n",
    "print(\"\\nEvaluation loss is {0} and accuracy is {1}\".format(*results))"
   ]
  },
  {
   "cell_type": "markdown",
   "metadata": {},
   "source": [
    "### Training the model"
   ]
  },
  {
   "cell_type": "code",
   "execution_count": 22,
   "metadata": {},
   "outputs": [
    {
     "name": "stdout",
     "output_type": "stream",
     "text": [
      "Epoch 1/15\n",
      "60000/60000 [==============================] - 2s 29us/step - loss: 9.2731 - acc: 0.4161\n",
      "Epoch 2/15\n",
      "60000/60000 [==============================] - 2s 25us/step - loss: 6.9552 - acc: 0.5620\n",
      "Epoch 3/15\n",
      "60000/60000 [==============================] - 2s 26us/step - loss: 5.7177 - acc: 0.6346\n",
      "Epoch 4/15\n",
      "60000/60000 [==============================] - 2s 25us/step - loss: 4.3244 - acc: 0.7210\n",
      "Epoch 5/15\n",
      "60000/60000 [==============================] - 2s 27us/step - loss: 2.8946 - acc: 0.8072\n",
      "Epoch 6/15\n",
      "60000/60000 [==============================] - 2s 26us/step - loss: 1.3408 - acc: 0.9016\n",
      "Epoch 7/15\n",
      "60000/60000 [==============================] - 2s 26us/step - loss: 0.7052 - acc: 0.9444\n",
      "Epoch 8/15\n",
      "60000/60000 [==============================] - 2s 26us/step - loss: 0.5976 - acc: 0.9524\n",
      "Epoch 9/15\n",
      "60000/60000 [==============================] - 2s 27us/step - loss: 0.5346 - acc: 0.9577\n",
      "Epoch 10/15\n",
      "60000/60000 [==============================] - 2s 26us/step - loss: 0.4617 - acc: 0.9626\n",
      "Epoch 11/15\n",
      "60000/60000 [==============================] - 2s 26us/step - loss: 0.4142 - acc: 0.9668\n",
      "Epoch 12/15\n",
      "60000/60000 [==============================] - 2s 27us/step - loss: 0.3783 - acc: 0.9693\n",
      "Epoch 13/15\n",
      "60000/60000 [==============================] - 2s 26us/step - loss: 0.3484 - acc: 0.9719\n",
      "Epoch 14/15\n",
      "60000/60000 [==============================] - 2s 28us/step - loss: 0.3260 - acc: 0.9737\n",
      "Epoch 15/15\n",
      "60000/60000 [==============================] - 2s 27us/step - loss: 0.3071 - acc: 0.9755\n"
     ]
    },
    {
     "data": {
      "text/plain": [
       "<keras.callbacks.History at 0x133793518>"
      ]
     },
     "execution_count": 22,
     "metadata": {},
     "output_type": "execute_result"
    }
   ],
   "source": [
    "m.model.fit(x=x_train, y=y_train, batch_size=128, epochs=15)"
   ]
  },
  {
   "cell_type": "markdown",
   "metadata": {},
   "source": [
    "### Evaluation (Trained Weights)"
   ]
  },
  {
   "cell_type": "code",
   "execution_count": 23,
   "metadata": {},
   "outputs": [
    {
     "name": "stdout",
     "output_type": "stream",
     "text": [
      "10000/10000 [==============================] - 0s 26us/step\n",
      "\n",
      "Evaluation loss is 0.5822803912632375 and accuracy is 0.9523\n"
     ]
    }
   ],
   "source": [
    "results = m.model.evaluate(x=x_test, y=y_test)\n",
    "print(\"\\nEvaluation loss is {0} and accuracy is {1}\".format(*results))"
   ]
  },
  {
   "cell_type": "code",
   "execution_count": 25,
   "metadata": {},
   "outputs": [
    {
     "data": {
      "text/plain": [
       "[array([[ 0.02598552,  0.06859225,  0.02587155, ..., -0.06236205,\n",
       "         -0.00336728, -0.06345939],\n",
       "        [ 0.01683274,  0.01126797,  0.07087256, ..., -0.05513847,\n",
       "         -0.01288918,  0.04864055],\n",
       "        [ 0.00084469,  0.00864899, -0.02593485, ...,  0.0373948 ,\n",
       "         -0.03898612, -0.01434632],\n",
       "        ...,\n",
       "        [ 0.05859149, -0.0080386 , -0.06214044, ...,  0.04170146,\n",
       "         -0.06370826,  0.02507553],\n",
       "        [ 0.05051669, -0.01537196,  0.04714635, ...,  0.02431303,\n",
       "          0.05513039, -0.02399365],\n",
       "        [ 0.06150328, -0.04680308, -0.07061426, ..., -0.01632583,\n",
       "         -0.04557209,  0.00341774]], dtype=float32),\n",
       " array([-7.25412829e-05,  1.26253426e-05, -4.02761034e-05, -2.56994190e-05,\n",
       "         5.32451895e-06,  3.88020999e-06, -5.90569252e-05, -3.04294081e-05,\n",
       "        -2.74780068e-05, -7.45112848e-05, -1.10347864e-05, -1.16880750e-04,\n",
       "        -5.06060715e-05, -4.95811400e-05, -2.62473645e-06, -2.26823468e-05,\n",
       "        -4.63582292e-05,  1.24027210e-05,  2.18146488e-05, -2.98346322e-06,\n",
       "        -6.88813234e-05,  1.36604103e-05, -2.48402539e-05, -7.75780563e-07,\n",
       "        -1.83947195e-05, -4.16037947e-05, -4.42985329e-05,  1.76446429e-05,\n",
       "         2.53393882e-05, -4.31029257e-05, -6.95853123e-06, -3.28036767e-05,\n",
       "        -4.26520637e-05,  3.89986635e-05, -4.04994062e-05,  3.19823557e-05,\n",
       "        -4.52585336e-05, -2.86681043e-05, -1.41812352e-05, -4.34676986e-05,\n",
       "        -1.91648214e-05,  3.53035393e-05, -1.43677437e-06,  3.64615607e-06,\n",
       "         6.27071422e-05, -7.31618420e-05, -4.28774474e-05,  2.48294018e-05,\n",
       "         5.28760611e-05,  6.70339250e-06, -1.72245418e-05,  2.35437551e-06,\n",
       "        -1.03322636e-05,  1.26523018e-05, -6.36471086e-05, -3.60541380e-05,\n",
       "        -3.20462677e-05,  1.91228582e-06, -6.15627287e-05, -2.91298038e-05,\n",
       "         2.59825338e-05,  2.60560100e-05, -9.72323141e-06,  4.58970389e-05,\n",
       "        -8.54537284e-05, -5.10529026e-05, -9.86151736e-06, -2.21369755e-05,\n",
       "        -1.50199294e-05,  4.65773155e-05, -5.16736645e-06, -1.47412757e-05,\n",
       "         1.04938381e-05, -4.74839180e-06, -2.63049442e-05, -9.94138172e-05,\n",
       "        -1.46478778e-05,  1.03619095e-05,  1.98957987e-05,  1.53791116e-05,\n",
       "        -1.09971683e-04, -3.23440254e-05,  1.98652524e-05,  4.98688360e-06,\n",
       "        -4.54902511e-05,  2.79193114e-06, -2.16550106e-05,  2.07091739e-06,\n",
       "        -5.83521869e-05,  9.94854872e-07,  6.40812505e-05, -1.28603997e-05,\n",
       "        -1.59559784e-06,  5.35340914e-05, -2.35483658e-05, -3.65580418e-05,\n",
       "         7.57695088e-05, -3.46319830e-05,  6.25301909e-05, -3.80192751e-06,\n",
       "        -3.29049581e-05, -2.55272607e-05, -7.72141902e-06, -3.88920234e-05,\n",
       "        -5.10495302e-05, -1.58537932e-05, -6.60778096e-05,  4.31077133e-05,\n",
       "        -1.07859778e-04, -4.43701974e-05, -2.38473040e-05,  1.78904938e-05,\n",
       "        -7.22247278e-05, -8.57993946e-05, -3.25004657e-05,  3.77718470e-06,\n",
       "        -7.90987033e-05, -3.76116259e-06,  8.43705857e-06, -5.65751143e-05,\n",
       "        -6.06600152e-05, -6.38005731e-05, -2.12621853e-05, -5.43773240e-05,\n",
       "        -4.83452204e-05,  4.16764487e-05, -1.92011721e-05, -5.17549452e-05,\n",
       "        -7.54943869e-07, -5.80835731e-05,  7.79743350e-05, -4.11335568e-05,\n",
       "        -1.77306301e-05,  2.52590453e-05, -2.21682112e-05,  1.83589782e-05,\n",
       "        -3.32539748e-05,  2.33836136e-06,  4.19259595e-06, -4.53513303e-06,\n",
       "        -5.03768388e-05, -1.83640896e-05,  3.55541124e-05, -7.91776256e-05,\n",
       "        -6.46122453e-06, -3.18839011e-05,  4.62423259e-06, -3.49796501e-05,\n",
       "        -6.77167145e-06, -4.70848645e-05, -8.71325994e-07, -6.36819459e-05,\n",
       "        -1.31616334e-05, -6.50078218e-05, -2.90515181e-05,  3.48717331e-05,\n",
       "        -1.06882981e-05,  2.39612273e-05, -3.58662946e-05,  4.83571494e-05,\n",
       "         9.06709556e-06,  5.42503985e-05,  5.71571691e-05, -7.76034867e-05,\n",
       "        -3.72632858e-05, -4.32970664e-05, -2.05474716e-05, -5.41801364e-06,\n",
       "        -9.11332972e-06, -1.79626641e-05, -1.44347396e-05,  6.64116442e-06,\n",
       "         6.17575870e-06, -2.13149542e-05, -2.79173219e-05, -1.28407037e-05,\n",
       "        -8.14210434e-05, -8.08421246e-05,  3.92351139e-05, -4.70500199e-05,\n",
       "        -3.80128477e-05, -3.82383150e-05, -7.29173262e-05, -7.78313988e-05,\n",
       "        -4.44414727e-05,  2.21263235e-05,  3.77801043e-05,  9.54285770e-06,\n",
       "        -1.15024532e-05,  2.75247367e-05, -1.51892800e-05, -1.34193479e-05,\n",
       "        -2.84329635e-05, -2.91281867e-05, -5.93881559e-05, -1.10630594e-06,\n",
       "         2.58488089e-05,  1.36930066e-05, -4.45411933e-05, -1.81939674e-06],\n",
       "       dtype=float32),\n",
       " array([[-0.06372324, -0.0365966 , -0.06355723, ...,  0.05818991,\n",
       "         -0.0728519 ,  0.05891051],\n",
       "        [-0.07032464, -0.12080973,  0.03032424, ..., -0.00143554,\n",
       "         -0.1126253 ,  0.09876897],\n",
       "        [-0.07778552,  0.0308397 , -0.07565801, ..., -0.02829719,\n",
       "          0.09837139, -0.00242694],\n",
       "        ...,\n",
       "        [-0.00515591, -0.0506288 ,  0.01516826, ..., -0.10171706,\n",
       "         -0.07313147,  0.0728823 ],\n",
       "        [ 0.03074886,  0.00272091,  0.07170726, ...,  0.00527223,\n",
       "          0.11500394,  0.04179002],\n",
       "        [ 0.096809  , -0.05189482,  0.00246076, ..., -0.036756  ,\n",
       "          0.03562574,  0.01849324]], dtype=float32),\n",
       " array([-4.31778790e-05, -8.70500935e-06,  2.23180668e-05,  7.59536124e-06,\n",
       "        -6.00794774e-05, -4.05785286e-05, -1.04344792e-04, -8.62145098e-05,\n",
       "         1.27885301e-06, -8.68983698e-05, -9.27188808e-07,  2.23209045e-05,\n",
       "        -1.73960638e-04, -1.08752592e-05, -1.01608661e-04, -5.66894687e-06,\n",
       "         6.79171421e-07, -4.36347582e-05,  6.69334531e-06, -1.92238440e-04,\n",
       "        -2.60358520e-05, -2.40289282e-05, -1.59527426e-05, -4.94783126e-05,\n",
       "        -1.04055689e-04, -1.27497042e-04, -3.91829190e-06,  7.83762061e-06,\n",
       "         2.96647959e-05, -1.11809226e-04, -1.57403323e-04,  5.67260213e-06,\n",
       "        -4.77059220e-05, -2.32873554e-05, -5.51428166e-05, -8.29731725e-05,\n",
       "         3.84469167e-05, -4.12082136e-06, -1.66384634e-05,  1.28769580e-05,\n",
       "         3.94739072e-05, -1.96032670e-05, -2.32409402e-05, -5.63889225e-05,\n",
       "        -4.91643041e-05, -8.45341929e-05, -1.47742932e-04, -3.92294787e-05,\n",
       "         3.14170684e-05, -5.74340338e-05, -6.37371704e-05, -4.19299140e-05,\n",
       "        -7.57193557e-05, -5.41803056e-05, -7.45383368e-05, -2.75994935e-05,\n",
       "        -5.55079532e-06, -2.96934122e-05,  4.23896818e-05, -2.42655715e-05,\n",
       "        -3.13943237e-05,  4.57773194e-06,  2.57291722e-05, -9.31198738e-05,\n",
       "        -3.25377641e-06, -6.89140652e-05, -2.86896811e-05, -9.90401822e-05,\n",
       "        -7.91511411e-06, -8.67997733e-05, -8.98867656e-05, -2.59747576e-05,\n",
       "        -7.58586830e-05,  6.18328704e-05, -4.78249167e-05,  2.57796601e-05,\n",
       "        -3.73108305e-05, -7.79641850e-05, -8.62314664e-06, -3.41448394e-05,\n",
       "        -5.35652507e-05, -1.47374931e-05, -1.00926576e-04, -1.17865484e-05,\n",
       "        -1.11786678e-04, -2.00005361e-05,  2.53618582e-05,  9.22859326e-05,\n",
       "        -2.03431846e-05,  1.18986427e-05,  1.15884912e-04, -7.05351704e-05,\n",
       "        -1.17378804e-05, -9.36438664e-06,  7.81530252e-06, -9.71092377e-05,\n",
       "        -5.45478360e-05, -7.40051837e-05, -2.25892945e-05, -9.28782756e-05,\n",
       "        -1.08704000e-04, -1.04579231e-04,  6.01228530e-05, -3.24953398e-05,\n",
       "         5.11231046e-05, -8.69839350e-05,  1.66623558e-05, -3.42202329e-05,\n",
       "         5.49607503e-05, -1.56097922e-05,  1.52244509e-04, -8.50360379e-07,\n",
       "        -2.43875857e-05,  1.40581178e-05,  6.98278927e-06,  5.73813450e-05,\n",
       "        -4.53208413e-05, -5.16723230e-06, -1.19653705e-04, -2.03646887e-05,\n",
       "        -5.28061792e-05, -1.02686990e-05, -4.30229447e-05,  1.28516167e-05,\n",
       "         1.52188004e-05, -6.57655710e-06, -6.35383049e-06, -7.19187447e-05,\n",
       "        -3.94856361e-05, -2.11079769e-05, -1.96230831e-05, -6.50013171e-05,\n",
       "        -3.45774242e-05, -2.71340668e-05,  1.72298769e-05,  1.58692310e-05,\n",
       "        -1.66654058e-06, -4.34508729e-05,  2.14354968e-05, -1.35619615e-04,\n",
       "        -5.22264345e-05, -2.25211716e-05, -1.30080389e-05, -5.71992714e-05,\n",
       "        -8.28130796e-05, -6.88854780e-05, -4.41147995e-06,  7.60605826e-06,\n",
       "         2.11227634e-05,  2.51533529e-05, -1.34254777e-04, -3.93626542e-05,\n",
       "         3.23519962e-05, -6.09980598e-05, -5.61513843e-05, -3.95117931e-05,\n",
       "        -5.48636999e-05, -1.00743026e-04, -4.52332060e-05, -1.03506536e-04,\n",
       "        -4.14379974e-05, -6.89966400e-05, -9.66012230e-05, -4.81099123e-05,\n",
       "         5.11310791e-05, -1.05615050e-04, -2.70289875e-05,  2.47369717e-05,\n",
       "         4.84714328e-05,  2.71547251e-05, -8.24798335e-05, -5.90180061e-05,\n",
       "        -4.37967610e-05,  2.87007933e-05,  2.44143193e-05, -6.65023617e-05,\n",
       "        -6.87029242e-05, -6.98255826e-05, -3.00469110e-05, -7.49798637e-05,\n",
       "        -1.09692686e-04, -3.39183753e-05,  2.92656041e-05, -6.33290692e-05,\n",
       "        -6.87334541e-05, -4.64805853e-05, -2.91184347e-06,  7.73510183e-05,\n",
       "        -1.49126543e-04, -1.22431275e-05,  2.75209823e-05, -1.39301555e-05,\n",
       "        -5.23928938e-05, -7.75917943e-05, -1.13776056e-04, -8.79991130e-05,\n",
       "        -1.16131210e-04, -4.58880168e-05, -8.05749296e-05, -3.02912722e-05],\n",
       "       dtype=float32),\n",
       " array([[ 1.3440739e-01,  8.5138574e-02,  9.4178701e-03, ...,\n",
       "          1.0886039e-01, -1.1573966e-01, -1.2712179e-01],\n",
       "        [-2.1263494e-03, -8.7210767e-02, -1.0927667e-02, ...,\n",
       "         -4.3311231e-02, -2.7364172e-02,  9.0687208e-02],\n",
       "        [-4.3901775e-02,  7.1345925e-02, -1.4968470e-01, ...,\n",
       "          8.9424461e-02,  3.0276144e-02,  9.9520683e-02],\n",
       "        ...,\n",
       "        [ 1.3644315e-01,  1.5466699e-01,  3.5257604e-02, ...,\n",
       "         -9.4719552e-02, -9.1146275e-02, -1.3858338e-02],\n",
       "        [-9.0309724e-02, -2.5036748e-04,  1.4636709e-01, ...,\n",
       "          3.3968411e-02, -9.0408340e-02,  7.6451436e-02],\n",
       "        [ 9.9540301e-02,  1.1128283e-01,  3.0095357e-02, ...,\n",
       "          1.3387929e-01, -1.2650630e-01,  2.1738619e-05]], dtype=float32),\n",
       " array([-9.6784766e-05, -1.8802400e-04, -1.1959145e-04,  5.7860821e-06,\n",
       "        -2.6411234e-04,  2.2734515e-04,  2.3777185e-04, -9.6376301e-05,\n",
       "         1.3504620e-04,  1.5893938e-04], dtype=float32)]"
      ]
     },
     "execution_count": 25,
     "metadata": {},
     "output_type": "execute_result"
    }
   ],
   "source": [
    "m.model.get_weights()"
   ]
  },
  {
   "cell_type": "markdown",
   "metadata": {},
   "source": [
    "### Saving the model"
   ]
  },
  {
   "cell_type": "markdown",
   "metadata": {},
   "source": [
    "Ordered from best to worst."
   ]
  },
  {
   "cell_type": "markdown",
   "metadata": {},
   "source": [
    "#### 1. Using the model + optimizer + weights .h5"
   ]
  },
  {
   "cell_type": "code",
   "execution_count": 26,
   "metadata": {},
   "outputs": [],
   "source": [
    "m.model.save('saved_mlp_model_with_w.h5')"
   ]
  },
  {
   "cell_type": "code",
   "execution_count": 27,
   "metadata": {},
   "outputs": [
    {
     "name": "stdout",
     "output_type": "stream",
     "text": [
      "10000/10000 [==============================] - 0s 36us/step\n",
      "\n",
      "Evaluation loss is 0.5822803912632375 and accuracy is 0.9523\n"
     ]
    }
   ],
   "source": [
    "m2 = keras.models.load_model('saved_mlp_model_with_w.h5') \n",
    "results = m2.evaluate(x=x_test, y=y_test)\n",
    "print(\"\\nEvaluation loss is {0} and accuracy is {1}\".format(*results))"
   ]
  },
  {
   "cell_type": "code",
   "execution_count": 28,
   "metadata": {},
   "outputs": [
    {
     "name": "stdout",
     "output_type": "stream",
     "text": [
      "Epoch 1/5\n",
      "60000/60000 [==============================] - 2s 29us/step - loss: 0.2917 - acc: 0.9769\n",
      "Epoch 2/5\n",
      "60000/60000 [==============================] - 2s 27us/step - loss: 0.2637 - acc: 0.9795\n",
      "Epoch 3/5\n",
      "60000/60000 [==============================] - 2s 27us/step - loss: 0.2541 - acc: 0.9803\n",
      "Epoch 4/5\n",
      "60000/60000 [==============================] - 2s 29us/step - loss: 0.2368 - acc: 0.9823\n",
      "Epoch 5/5\n",
      "60000/60000 [==============================] - 2s 27us/step - loss: 0.2309 - acc: 0.9825\n",
      "10000/10000 [==============================] - 0s 30us/step\n",
      "\n",
      "Evaluation loss is 0.49609962539901464 and accuracy is 0.9604\n"
     ]
    }
   ],
   "source": [
    "# This model can continue training!\n",
    "m2.fit(x=x_train, y=y_train, batch_size=128, epochs=5)\n",
    "results = m2.model.evaluate(x=x_test, y=y_test)\n",
    "print(\"\\nEvaluation loss is {0} and accuracy is {1}\".format(*results))"
   ]
  },
  {
   "cell_type": "markdown",
   "metadata": {},
   "source": [
    "#### 2. Using a hybrid (JSON for architecture and optimizer + .h5 for weights)"
   ]
  },
  {
   "cell_type": "markdown",
   "metadata": {},
   "source": [
    "##### Saving"
   ]
  },
  {
   "cell_type": "code",
   "execution_count": 29,
   "metadata": {},
   "outputs": [],
   "source": [
    "def serialize_model(keras_model):\n",
    "    if not keras_model._is_compiled:\n",
    "        raise Exception(\"Model needs to be compiled first.\")\n",
    "    return {\n",
    "        'architecture': keras_model.to_json(),\n",
    "        'optimizer': get_optimizer(keras_model)\n",
    "    }"
   ]
  },
  {
   "cell_type": "code",
   "execution_count": 30,
   "metadata": {},
   "outputs": [],
   "source": [
    "serialized_model = serialize_model(m.model)"
   ]
  },
  {
   "cell_type": "code",
   "execution_count": 31,
   "metadata": {},
   "outputs": [
    {
     "data": {
      "text/plain": [
       "{'architecture': '{\"class_name\": \"Sequential\", \"config\": {\"name\": \"sequential_2\", \"layers\": [{\"class_name\": \"Dense\", \"config\": {\"name\": \"dense_4\", \"trainable\": true, \"batch_input_shape\": [null, 784], \"dtype\": \"float32\", \"units\": 200, \"activation\": \"relu\", \"use_bias\": true, \"kernel_initializer\": {\"class_name\": \"VarianceScaling\", \"config\": {\"scale\": 1.0, \"mode\": \"fan_avg\", \"distribution\": \"uniform\", \"seed\": null}}, \"bias_initializer\": {\"class_name\": \"Zeros\", \"config\": {}}, \"kernel_regularizer\": null, \"bias_regularizer\": null, \"activity_regularizer\": null, \"kernel_constraint\": null, \"bias_constraint\": null}}, {\"class_name\": \"Dense\", \"config\": {\"name\": \"dense_5\", \"trainable\": true, \"units\": 200, \"activation\": \"relu\", \"use_bias\": true, \"kernel_initializer\": {\"class_name\": \"VarianceScaling\", \"config\": {\"scale\": 1.0, \"mode\": \"fan_avg\", \"distribution\": \"uniform\", \"seed\": null}}, \"bias_initializer\": {\"class_name\": \"Zeros\", \"config\": {}}, \"kernel_regularizer\": null, \"bias_regularizer\": null, \"activity_regularizer\": null, \"kernel_constraint\": null, \"bias_constraint\": null}}, {\"class_name\": \"Dense\", \"config\": {\"name\": \"dense_6\", \"trainable\": true, \"units\": 10, \"activation\": \"softmax\", \"use_bias\": true, \"kernel_initializer\": {\"class_name\": \"VarianceScaling\", \"config\": {\"scale\": 1.0, \"mode\": \"fan_avg\", \"distribution\": \"uniform\", \"seed\": null}}, \"bias_initializer\": {\"class_name\": \"Zeros\", \"config\": {}}, \"kernel_regularizer\": null, \"bias_regularizer\": null, \"activity_regularizer\": null, \"kernel_constraint\": null, \"bias_constraint\": null}}]}, \"keras_version\": \"2.2.4\", \"backend\": \"tensorflow\"}',\n",
       " 'optimizer': {'training_config': '{\"optimizer_config\": {\"class_name\": \"SGD\", \"config\": {\"lr\": 0.0010000000474974513, \"momentum\": 0.0, \"decay\": 0.0, \"nesterov\": false}}, \"loss\": \"sparse_categorical_crossentropy\", \"metrics\": [\"accuracy\"], \"sample_weight_mode\": null, \"loss_weights\": null}'}}"
      ]
     },
     "execution_count": 31,
     "metadata": {},
     "output_type": "execute_result"
    }
   ],
   "source": [
    "serialized_model"
   ]
  },
  {
   "cell_type": "code",
   "execution_count": 32,
   "metadata": {},
   "outputs": [],
   "source": [
    "with open('model_w_serializer.json', 'w') as outfile:\n",
    "    json.dump(serialized_model, outfile)"
   ]
  },
  {
   "cell_type": "markdown",
   "metadata": {},
   "source": [
    "##### Loading"
   ]
  },
  {
   "cell_type": "code",
   "execution_count": 33,
   "metadata": {},
   "outputs": [],
   "source": [
    "m5 = model_from_serialized(serialized_model)\n",
    "assert m5._is_compiled, \"Model is not compiled (UNEXPECTED)\""
   ]
  },
  {
   "cell_type": "code",
   "execution_count": 34,
   "metadata": {},
   "outputs": [
    {
     "name": "stdout",
     "output_type": "stream",
     "text": [
      "10000/10000 [==============================] - 0s 46us/step\n",
      "\n",
      "Evaluation loss on INITIAL MODEL is 14.130905374145508 and accuracy is 0.1077\n"
     ]
    }
   ],
   "source": [
    "results = m5.model.evaluate(x=x_test, y=y_test)\n",
    "print(\"\\nEvaluation loss on INITIAL MODEL is {0} and accuracy is {1}\".format(*results))"
   ]
  },
  {
   "cell_type": "code",
   "execution_count": 35,
   "metadata": {},
   "outputs": [
    {
     "name": "stdout",
     "output_type": "stream",
     "text": [
      "10000/10000 [==============================] - 0s 25us/step\n",
      "\n",
      "Evaluation loss on PRETRAINED MODEL is 0.6063993921547932 and accuracy is 0.9518\n"
     ]
    }
   ],
   "source": [
    "m5.load_weights('saved_mlp_weights.h5')\n",
    "results = m5.model.evaluate(x=x_test, y=y_test)\n",
    "print(\"\\nEvaluation loss on PRETRAINED MODEL is {0} and accuracy is {1}\".format(*results))"
   ]
  },
  {
   "cell_type": "code",
   "execution_count": 36,
   "metadata": {},
   "outputs": [
    {
     "name": "stdout",
     "output_type": "stream",
     "text": [
      "Epoch 1/5\n",
      "60000/60000 [==============================] - 2s 34us/step - loss: 0.4071 - acc: 0.9687\n",
      "Epoch 2/5\n",
      "60000/60000 [==============================] - 2s 28us/step - loss: 0.3599 - acc: 0.9724\n",
      "Epoch 3/5\n",
      "60000/60000 [==============================] - 2s 25us/step - loss: 0.3308 - acc: 0.9744\n",
      "Epoch 4/5\n",
      "60000/60000 [==============================] - 2s 34us/step - loss: 0.2995 - acc: 0.9768\n",
      "Epoch 5/5\n",
      "60000/60000 [==============================] - 2s 31us/step - loss: 0.2764 - acc: 0.9791\n",
      "10000/10000 [==============================] - 0s 31us/step\n",
      "\n",
      "Evaluation loss is 0.5075688947218925 and accuracy is 0.9589\n"
     ]
    }
   ],
   "source": [
    "# This model can continue training like we want it.\n",
    "m5.model.fit(x=x_train, y=y_train, batch_size=128, epochs=5)\n",
    "results = m5.model.evaluate(x=x_test, y=y_test)\n",
    "print(\"\\nEvaluation loss is {0} and accuracy is {1}\".format(*results))"
   ]
  },
  {
   "cell_type": "markdown",
   "metadata": {},
   "source": [
    "#### 3. Using the (only) weights .h5 "
   ]
  },
  {
   "cell_type": "code",
   "execution_count": 37,
   "metadata": {},
   "outputs": [],
   "source": [
    "m.model.save_weights('saved_mlp_weights.h5')"
   ]
  },
  {
   "cell_type": "code",
   "execution_count": 38,
   "metadata": {},
   "outputs": [
    {
     "name": "stdout",
     "output_type": "stream",
     "text": [
      "10000/10000 [==============================] - 1s 66us/step\n",
      "\n",
      "Evaluation loss is 0.5822803912632375 and accuracy is 0.9523\n"
     ]
    }
   ],
   "source": [
    "m4 = KerasPerceptron(is_training=True)\n",
    "m4.model.load_weights('saved_mlp_weights.h5')\n",
    "results = m4.model.evaluate(x=x_test, y=y_test)\n",
    "print(\"\\nEvaluation loss is {0} and accuracy is {1}\".format(*results))"
   ]
  },
  {
   "cell_type": "code",
   "execution_count": 39,
   "metadata": {},
   "outputs": [
    {
     "name": "stdout",
     "output_type": "stream",
     "text": [
      "Epoch 1/5\n",
      "60000/60000 [==============================] - 2s 38us/step - loss: 0.2830 - acc: 0.9778\n",
      "Epoch 2/5\n",
      "60000/60000 [==============================] - 2s 36us/step - loss: 0.2676 - acc: 0.9787\n",
      "Epoch 3/5\n",
      "60000/60000 [==============================] - 2s 33us/step - loss: 0.2533 - acc: 0.9803\n",
      "Epoch 4/5\n",
      "60000/60000 [==============================] - 2s 35us/step - loss: 0.2421 - acc: 0.9810\n",
      "Epoch 5/5\n",
      "60000/60000 [==============================] - 2s 33us/step - loss: 0.2275 - acc: 0.9826\n",
      "10000/10000 [==============================] - 0s 30us/step\n",
      "\n",
      "Evaluation loss is 0.47415640808192366 and accuracy is 0.9577\n"
     ]
    }
   ],
   "source": [
    "# This model can continue training, BUT only because we instantiated the KerasPerceptron class.\n",
    "m4.model.fit(x=x_train, y=y_train, batch_size=128, epochs=5)\n",
    "results = m4.model.evaluate(x=x_test, y=y_test)\n",
    "print(\"\\nEvaluation loss is {0} and accuracy is {1}\".format(*results))"
   ]
  },
  {
   "cell_type": "markdown",
   "metadata": {},
   "source": [
    "#### 4. Using the .npy"
   ]
  },
  {
   "cell_type": "code",
   "execution_count": 40,
   "metadata": {},
   "outputs": [],
   "source": [
    "trained_weights = m.get_weights()\n",
    "np.save('./perceptron_trained.npy', trained_weights)"
   ]
  },
  {
   "cell_type": "code",
   "execution_count": 41,
   "metadata": {},
   "outputs": [
    {
     "name": "stdout",
     "output_type": "stream",
     "text": [
      "10000/10000 [==============================] - 0s 40us/step\n",
      "\n",
      "Evaluation loss is 0.5822803912632375 and accuracy is 0.9523\n"
     ]
    }
   ],
   "source": [
    "# The accuracy is exactly what it was before :)\n",
    "m3 = KerasPerceptron(is_training=True)\n",
    "m3.set_weights(np.load('perceptron_trained.npy'))\n",
    "results = m3.model.evaluate(x=x_test, y=y_test)\n",
    "print(\"\\nEvaluation loss is {0} and accuracy is {1}\".format(*results))"
   ]
  },
  {
   "cell_type": "code",
   "execution_count": 42,
   "metadata": {},
   "outputs": [
    {
     "name": "stdout",
     "output_type": "stream",
     "text": [
      "Epoch 1/5\n",
      "60000/60000 [==============================] - 3s 45us/step - loss: 0.2867 - acc: 0.9770\n",
      "Epoch 2/5\n",
      "60000/60000 [==============================] - 2s 36us/step - loss: 0.2728 - acc: 0.9788\n",
      "Epoch 3/5\n",
      "60000/60000 [==============================] - 2s 30us/step - loss: 0.2552 - acc: 0.9801\n",
      "Epoch 4/5\n",
      "60000/60000 [==============================] - 2s 34us/step - loss: 0.2412 - acc: 0.9814\n",
      "Epoch 5/5\n",
      "60000/60000 [==============================] - 2s 28us/step - loss: 0.2323 - acc: 0.9821\n",
      "10000/10000 [==============================] - 0s 25us/step\n",
      "\n",
      "Evaluation loss is 0.4945828144242561 and accuracy is 0.9589\n"
     ]
    }
   ],
   "source": [
    "# This model can continue training, BUT only because we instantiated the KerasPerceptron class.\n",
    "m3.model.fit(x=x_train, y=y_train, batch_size=128, epochs=5)\n",
    "results = m3.model.evaluate(x=x_test, y=y_test)\n",
    "print(\"\\nEvaluation loss is {0} and accuracy is {1}\".format(*results))"
   ]
  },
  {
   "cell_type": "markdown",
   "metadata": {},
   "source": [
    "### Conclusion"
   ]
  },
  {
   "cell_type": "markdown",
   "metadata": {},
   "source": [
    "When using Keras, the best way to encode the model (and optimizer & weights) and send it around for more training is to use the `model.model.save(filepath)` function. \n",
    "\n",
    "**Please notice the** `model.model` **because it's important! Without it the weights will change and the model won't be accurate.**"
   ]
  },
  {
   "cell_type": "markdown",
   "metadata": {},
   "source": [
    "The exact lines of code to do this would be:\n",
    "\n",
    "```python\n",
    "# Serialize the model, optimizer, and weights\n",
    "model = # The Keras model here\n",
    "filepath = 'models/filename.h5'\n",
    "model.model.save(filepath)\n",
    "```"
   ]
  },
  {
   "cell_type": "markdown",
   "metadata": {},
   "source": [
    "At this point, `serialized_model` will contain the model and optimizer while the file `weights/filename.h5` will contain the weights.\n",
    "\n",
    "To send this information through an HTTP request we would do the following:\n",
    "\n",
    "```python\n",
    "url = 'https://servers.dataagora.com/start-dml'\n",
    "metadata = {} # Some metadata\n",
    "with open(weights_filepath, 'rb') as f:\n",
    "    r = requests.post(url, files={'file': f}, data=metadata)\n",
    "```"
   ]
  },
  {
   "cell_type": "markdown",
   "metadata": {},
   "source": [
    "**NOTES**: It may be that the file we're sending is too big for either the client to send or the server to receive. In these cases, we can either stream or cut the file into chunks to send. Here are some resources to accomplish this: [one](https://stackoverflow.com/a/54857411), [two](https://stackoverflow.com/a/35784072), [three](http://docs.python-requests.org/en/latest/user/quickstart/#post-a-multipart-encoded-file_)."
   ]
  },
  {
   "cell_type": "markdown",
   "metadata": {},
   "source": [
    "#### UPDATE"
   ]
  },
  {
   "cell_type": "markdown",
   "metadata": {},
   "source": [
    "The conclusion above is accurate and probably necessary when using a *TensorFlow.js* trainer, but it's not sufficient. *TensorFlow.js* doesn't incorporate the optimizer information when deserializing the model, so the client needs to manually compile the model. (See the `KerasAndTFJS.ipynb` for more details.)"
   ]
  },
  {
   "cell_type": "code",
   "execution_count": null,
   "metadata": {},
   "outputs": [],
   "source": []
  }
 ],
 "metadata": {
  "kernelspec": {
   "display_name": "venv3",
   "language": "python",
   "name": "venv3"
  },
  "language_info": {
   "codemirror_mode": {
    "name": "ipython",
    "version": 3
   },
   "file_extension": ".py",
   "mimetype": "text/x-python",
   "name": "python",
   "nbconvert_exporter": "python",
   "pygments_lexer": "ipython3",
   "version": "3.6.6"
  }
 },
 "nbformat": 4,
 "nbformat_minor": 2
}
